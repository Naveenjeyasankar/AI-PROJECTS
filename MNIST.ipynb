{
  "nbformat": 4,
  "nbformat_minor": 0,
  "metadata": {
    "colab": {
      "provenance": []
    },
    "kernelspec": {
      "name": "python3",
      "display_name": "Python 3"
    },
    "language_info": {
      "name": "python"
    }
  },
  "cells": [
    {
      "cell_type": "code",
      "execution_count": 33,
      "metadata": {
        "id": "NhgN_OvcuMb2"
      },
      "outputs": [],
      "source": [
        "import os\n",
        "os.environ['TF_CPP_MIN_LOG_LEVEL']='2'\n",
        "import tensorflow as tf\n",
        "from tensorflow import keras\n",
        "from tensorflow.keras import  layers\n",
        "from tensorflow.keras.datasets import mnist"
      ]
    },
    {
      "cell_type": "code",
      "source": [],
      "metadata": {
        "id": "RqjxB14KIgwb"
      },
      "execution_count": null,
      "outputs": []
    },
    {
      "cell_type": "code",
      "source": [
        "(x_train,y_train),(x_test,y_test)=mnist.load_data()\n",
        "x_train= x_train.reshape(-1,28*28).astype(\"float32\")/255.0\n",
        "\n",
        "x_test= x_test.reshape(-1,28*28).astype(\"float32\")/255.0\n",
        "print(x_train.shape)"
      ],
      "metadata": {
        "colab": {
          "base_uri": "https://localhost:8080/"
        },
        "id": "sBT22NjXxoQs",
        "outputId": "c7455d88-9f68-4d03-e767-39c15b45b098"
      },
      "execution_count": 18,
      "outputs": [
        {
          "output_type": "stream",
          "name": "stdout",
          "text": [
            "(60000, 784)\n"
          ]
        }
      ]
    },
    {
      "cell_type": "code",
      "source": [
        "\n",
        "\n",
        "model=keras.Sequential(\n",
        "    [\n",
        "layers.Input(shape=(28*28)),\n",
        "layers.Dense(512,activation='relu'),\n",
        "layers.Dense(256,activation='relu'),\n",
        "layers.Dense(10),\n",
        "\n",
        "\n",
        "])\n",
        "model=keras.Model(inputs=model.inputs,\n",
        "                  outputs=[layer.output for layer in model.layers])\n",
        "features=model.predict(x_train)\n",
        "for feature in features:\n",
        "   print(feature.shape)\n"
      ],
      "metadata": {
        "colab": {
          "base_uri": "https://localhost:8080/"
        },
        "id": "RPYr1KNH9Ilq",
        "outputId": "4a94a66a-ac8b-4452-e444-b7107abebd4e"
      },
      "execution_count": 30,
      "outputs": [
        {
          "output_type": "stream",
          "name": "stdout",
          "text": [
            "1875/1875 [==============================] - 5s 3ms/step\n",
            "(60000, 512)\n",
            "(60000, 256)\n",
            "(60000, 10)\n"
          ]
        }
      ]
    },
    {
      "cell_type": "code",
      "source": [
        "input=keras.Input(shape=(784))\n",
        "x=layers.Dense(512,activation='relu')(input)\n",
        "x=layers.Dense(256,activation='relu')(x)\n",
        "output=layers.Dense(10 , activation='softmax')(x)\n",
        "\n",
        "model=keras.Model(inputs=input,outputs=output)\n",
        "model.summary()\n",
        "import sys\n",
        "sys.exit()"
      ],
      "metadata": {
        "colab": {
          "base_uri": "https://localhost:8080/"
        },
        "id": "2TzQBT3t-eb6",
        "outputId": "f227ceed-fb66-44c4-ca25-5fcd4eb5ab2c"
      },
      "execution_count": 23,
      "outputs": [
        {
          "output_type": "stream",
          "name": "stdout",
          "text": [
            "Model: \"model\"\n",
            "_________________________________________________________________\n",
            " Layer (type)                Output Shape              Param #   \n",
            "=================================================================\n",
            " input_4 (InputLayer)        [(None, 784)]             0         \n",
            "                                                                 \n",
            " dense_28 (Dense)            (None, 512)               401920    \n",
            "                                                                 \n",
            " dense_29 (Dense)            (None, 256)               131328    \n",
            "                                                                 \n",
            " dense_30 (Dense)            (None, 10)                2570      \n",
            "                                                                 \n",
            "=================================================================\n",
            "Total params: 535818 (2.04 MB)\n",
            "Trainable params: 535818 (2.04 MB)\n",
            "Non-trainable params: 0 (0.00 Byte)\n",
            "_________________________________________________________________\n"
          ]
        }
      ]
    },
    {
      "cell_type": "code",
      "source": [
        "\n",
        "model.summary()\n",
        "model.compile(\n",
        "    loss=keras.losses.SparseCategoricalCrossentropy(from_logits=True),\n",
        "    optimizer=keras.optimizers.Adam(lr=0.001),\n",
        "    metrics=['accuracy'],\n",
        ")\n",
        "\n",
        "model.fit(x_train,y_train,batch_size=32,epochs=5,verbose=2 )\n",
        "model.evaluate(x_train,y_train,batch_size=32,verbose=2 )\n"
      ],
      "metadata": {
        "colab": {
          "base_uri": "https://localhost:8080/"
        },
        "id": "Uj0-sZNb1l8X",
        "outputId": "37fb3d31-43ee-490d-85f8-31bdec8a66be"
      },
      "execution_count": 24,
      "outputs": [
        {
          "output_type": "stream",
          "name": "stdout",
          "text": [
            "Model: \"model\"\n",
            "_________________________________________________________________\n",
            " Layer (type)                Output Shape              Param #   \n",
            "=================================================================\n",
            " input_4 (InputLayer)        [(None, 784)]             0         \n",
            "                                                                 \n",
            " dense_28 (Dense)            (None, 512)               401920    \n",
            "                                                                 \n",
            " dense_29 (Dense)            (None, 256)               131328    \n",
            "                                                                 \n",
            " dense_30 (Dense)            (None, 10)                2570      \n",
            "                                                                 \n",
            "=================================================================\n",
            "Total params: 535818 (2.04 MB)\n",
            "Trainable params: 535818 (2.04 MB)\n",
            "Non-trainable params: 0 (0.00 Byte)\n",
            "_________________________________________________________________\n"
          ]
        },
        {
          "output_type": "stream",
          "name": "stderr",
          "text": [
            "WARNING:absl:`lr` is deprecated in Keras optimizer, please use `learning_rate` or use the legacy optimizer, e.g.,tf.keras.optimizers.legacy.Adam.\n"
          ]
        },
        {
          "output_type": "stream",
          "name": "stdout",
          "text": [
            "Epoch 1/5\n"
          ]
        },
        {
          "output_type": "stream",
          "name": "stderr",
          "text": [
            "/usr/local/lib/python3.10/dist-packages/keras/src/backend.py:5714: UserWarning: \"`sparse_categorical_crossentropy` received `from_logits=True`, but the `output` argument was produced by a Softmax activation and thus does not represent logits. Was this intended?\n",
            "  output, from_logits = _get_logits(\n"
          ]
        },
        {
          "output_type": "stream",
          "name": "stdout",
          "text": [
            "1875/1875 - 14s - loss: 0.1881 - accuracy: 0.9431 - 14s/epoch - 8ms/step\n",
            "Epoch 2/5\n",
            "1875/1875 - 13s - loss: 0.0788 - accuracy: 0.9758 - 13s/epoch - 7ms/step\n",
            "Epoch 3/5\n",
            "1875/1875 - 12s - loss: 0.0557 - accuracy: 0.9826 - 12s/epoch - 6ms/step\n",
            "Epoch 4/5\n",
            "1875/1875 - 12s - loss: 0.0415 - accuracy: 0.9863 - 12s/epoch - 7ms/step\n",
            "Epoch 5/5\n",
            "1875/1875 - 12s - loss: 0.0315 - accuracy: 0.9898 - 12s/epoch - 6ms/step\n",
            "1875/1875 - 4s - loss: 0.0221 - accuracy: 0.9926 - 4s/epoch - 2ms/step\n"
          ]
        },
        {
          "output_type": "execute_result",
          "data": {
            "text/plain": [
              "[0.02210245653986931, 0.9926333427429199]"
            ]
          },
          "metadata": {},
          "execution_count": 24
        }
      ]
    },
    {
      "cell_type": "code",
      "source": [],
      "metadata": {
        "id": "wiSawR4X9HBW"
      },
      "execution_count": null,
      "outputs": []
    }
  ]
}